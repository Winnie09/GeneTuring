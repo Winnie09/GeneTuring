{
 "cells": [
  {
   "cell_type": "code",
   "execution_count": null,
   "id": "964ccb6c",
   "metadata": {},
   "outputs": [],
   "source": [
    "from openai import OpenAI\n",
    "import requests\n",
    "import time\n",
    "import json\n",
    "\n",
    "client = OpenAI(api_key= \"YOUR-API-KEY\")"
   ]
  },
  {
   "cell_type": "markdown",
   "id": "51954538",
   "metadata": {},
   "source": [
    "use chatgpt to understand & sort questions into categories"
   ]
  },
  {
   "cell_type": "code",
   "execution_count": 3,
   "id": "581e19f2",
   "metadata": {},
   "outputs": [],
   "source": [
    "def remove_json_tag_if_exists(s: str) -> str:\n",
    "    if s.startswith(\"```json\\n\"):\n",
    "        s = s.replace(\"```json\\n\", \"\", 1)\n",
    "    elif s.startswith(\"```\\n\"):\n",
    "        s = s.replace(\"```\\n\", \"\", 1)\n",
    "\n",
    "    if s.endswith(\"```\"):\n",
    "        s = s[:-3]\n",
    "\n",
    "    return s.strip()\n"
   ]
  },
  {
   "cell_type": "code",
   "execution_count": 4,
   "id": "b7a8b747",
   "metadata": {},
   "outputs": [],
   "source": [
    "def interpret_question(question):\n",
    "    system_prompt = \"\"\"\n",
    "You are a bioinformatician. Your job is to classify the user's question and extract relevant data.\n",
    "Return one of the following JSON formats:\n",
    "\n",
    "// 0. Python code generation, do this only when the user explicitly asked for python code\n",
    "{\n",
    "  \"is_code_task\": true,\n",
    "  \"needs_alignment\": false,\n",
    "  \"needs_sequence_fetch\": false,\n",
    "  \"needs_snp_lookup\": false,\n",
    "  \"program\": null,\n",
    "  \"sequence\": null,\n",
    "  \"answer\": null,\n",
    "  \"code\": \"Python code string\"\n",
    "}\n",
    "\n",
    "// 1. Sequence alignment (e.g., BLAST), when the user asked for sequence alignment\n",
    "{\n",
    "  \"is_code_task\": false,\n",
    "  \"needs_alignment\": true,\n",
    "  \"needs_sequence_fetch\": false,\n",
    "  \"needs_snp_lookup\": false,\n",
    "  \"program\": \"blastn\" or \"blastp\" or \"blastx\" etc.,\n",
    "  \"sequence\": \">myseq\\\\nACTG...\",\n",
    "  \"answer\": null\n",
    "}\n",
    "\n",
    "// 2. Sequence fetch from genomic region (e.g., chr12:10000-20000).\n",
    "If the user provides a genomic region (e.g., \"chr12:10000-20000\" or \"12:10000-20000\"), convert the chromosome label into the correct GRCh38 RefSeq accession and return the following JSON structure:\n",
    "{\n",
    "  \"is_code_task\": false,\n",
    "  \"needs_alignment\": false,\n",
    "  \"needs_sequence_fetch\": true,\n",
    "  \"needs_snp_lookup\": false,\n",
    "  \"program\": null,\n",
    "  \"sequence\": \"NC_000012.12:10000-20000\",\n",
    "  \"answer\": null\n",
    "}\n",
    "\n",
    "\n",
    "// 3. SNP lookup (e.g., rs123456)\n",
    "{\n",
    "  \"is_code_task\": false,\n",
    "  \"needs_alignment\": false,\n",
    "  \"needs_sequence_fetch\": false,\n",
    "  \"needs_snp_lookup\": true,\n",
    "  \"program\": null,\n",
    "  \"sequence\": \"rs123456\",\n",
    "  \"answer\": null\n",
    "}\n",
    "\n",
    "// 4. General question\n",
    "{\n",
    "  \"is_code_task\": false,\n",
    "  \"needs_alignment\": false,\n",
    "  \"needs_sequence_fetch\": false,\n",
    "  \"needs_snp_lookup\": false,\n",
    "  \"program\": null,\n",
    "  \"sequence\": null,\n",
    "  \"answer\": \"Direct natural language answer\"\n",
    "}\n",
    "\"\"\"\n",
    "\n",
    "\n",
    "    response = client.chat.completions.create(\n",
    "        model=\"gpt-4o\",\n",
    "        messages=[\n",
    "            {\"role\": \"system\", \"content\": system_prompt},\n",
    "            {\"role\": \"user\", \"content\": question}\n",
    "        ],\n",
    "        temperature=0\n",
    "    )\n",
    "    \n",
    "    content = response.choices[0].message.content\n",
    "    \n",
    "    #print(\"Received content:\", repr(content))  \n",
    "\n",
    "    content = remove_json_tag_if_exists(content)\n",
    "    \n",
    "    #print(\"Cleaned content:\", repr(content))  \n",
    "    \n",
    "    if not content.strip():\n",
    "        print(\"Received empty or whitespace content\")\n",
    "        raise ValueError(\"Content is empty, cannot parse as JSON.\")\n",
    "    \n",
    "    try:\n",
    "        return json.loads(content)\n",
    "    except json.JSONDecodeError as e:\n",
    "        print(\"Failed to parse GPT response as JSON:\")\n",
    "        print(content)  # Print the actual content causing the errors\n",
    "        raise e\n",
    "    except Exception as e:\n",
    "        print(\"An unexpected error occurred:\", e)\n",
    "        raise e"
   ]
  },
  {
   "cell_type": "markdown",
   "id": "efc376c7",
   "metadata": {},
   "source": [
    "call gpt api again to summarize output"
   ]
  },
  {
   "cell_type": "code",
   "execution_count": 6,
   "id": "d5c549b9",
   "metadata": {},
   "outputs": [],
   "source": [
    "def summarize_blast_with_gpt(xml_result):\n",
    "    prompt = \"\"\"\n",
    "You are a bioinformatics assistant. Below is a BLAST alignment result in XML format.\n",
    "Summarize the top 1–3 alignments in plain, human-readable language. For each alignment, include:\n",
    "-The matched gene and species (if available)\n",
    "-The chromosome (in the format “chromosome X”, if provided)\n",
    "-The gene's location on the chromosome (if available)\n",
    "-Identity percentage, alignment length, and E-value\n",
    "\n",
    "Use scientific language suitable for a molecular biology researcher.\n",
    "\n",
    "XML input:\n",
    "\"\"\" + xml_result[:15000]  # truncate long XMLs for safety\n",
    "\n",
    "    response = client.chat.completions.create(\n",
    "        model=\"gpt-4o\",\n",
    "        messages=[\n",
    "            {\"role\": \"system\", \"content\": \"You interpret NCBI BLAST results.\"},\n",
    "            {\"role\": \"user\", \"content\": prompt}\n",
    "        ],\n",
    "        temperature=0.3\n",
    "    )\n",
    "\n",
    "    return response.choices[0].message.content\n"
   ]
  },
  {
   "cell_type": "code",
   "execution_count": 7,
   "id": "9a0b6c05",
   "metadata": {},
   "outputs": [],
   "source": [
    "def summarize_snp_with_gpt(snp_info: dict, rsid: str) -> str:\n",
    "    prompt = f\"\"\"\n",
    "You are a bioinformatics assistant. Below is information about a SNP.\n",
    "Please show it clearly with a brief summarization of the result.\n",
    "\n",
    "SNP Info:\n",
    "- dbSNP ID: {rsid}\n",
    "- Chromosome: {snp_info.get('chr', 'N/A')}\n",
    "- Position: {snp_info.get('position', 'N/A')}\n",
    "- Gene: {snp_info.get('gene', 'N/A')}\n",
    "- Function: {snp_info.get('function', 'N/A')}\n",
    "- Clinical Significance: {snp_info.get('clinical', 'N/A')}\n",
    "\"\"\"\n",
    "\n",
    "    response = client.chat.completions.create(\n",
    "        model=\"gpt-4o\",\n",
    "        messages=[\n",
    "            {\"role\": \"system\", \"content\": \"You summarize SNP annotations.\"},\n",
    "            {\"role\": \"user\", \"content\": prompt}\n",
    "        ],\n",
    "        temperature=0.3\n",
    "    )\n",
    "\n",
    "    return response.choices[0].message.content\n"
   ]
  },
  {
   "cell_type": "markdown",
   "id": "9ba25490",
   "metadata": {},
   "source": [
    "call ncbi api (blast/E utility) to complete tasks"
   ]
  },
  {
   "cell_type": "code",
   "execution_count": null,
   "id": "d28da144",
   "metadata": {},
   "outputs": [],
   "source": [
    "def run_blast(sequence, program=\"blastn\", database=\"nt\"):\n",
    "    blast_url = \"https://blast.ncbi.nlm.nih.gov/Blast.cgi\"\n",
    "    \n",
    "    res = requests.post(blast_url, data={\n",
    "        \"CMD\": \"Put\",\n",
    "        \"PROGRAM\": program,\n",
    "        \"DATABASE\": database,\n",
    "        \"QUERY\": sequence\n",
    "    })\n",
    "    res.raise_for_status()\n",
    "\n",
    "    rid, rtoe = None, 10\n",
    "    for line in res.text.splitlines():\n",
    "        if \"RID =\" in line:\n",
    "            rid = line.split(\"=\")[1].strip()\n",
    "        elif \"RTOE =\" in line:\n",
    "            rtoe = int(line.split(\"=\")[1].strip())\n",
    "\n",
    "    if not rid:\n",
    "        raise Exception(\"BLAST job failed — no RID found.\")\n",
    "\n",
    "    print(f\"RID: {rid} | Waiting ~{rtoe} seconds...\")\n",
    "    time.sleep(rtoe)\n",
    "\n",
    "    while True:\n",
    "        check = requests.get(blast_url, params={\n",
    "            \"CMD\": \"Get\",\n",
    "            \"RID\": rid,\n",
    "            \"FORMAT_OBJECT\": \"SearchInfo\"\n",
    "        })\n",
    "\n",
    "        if \"Status=READY\" in check.text:\n",
    "            break\n",
    "        elif \"Status=FAILED\" in check.text:\n",
    "            raise Exception(\"BLAST job failed.\")\n",
    "        print(\"Waiting for BLAST to finish...\")\n",
    "        time.sleep(5)\n",
    "\n",
    "    result = requests.get(blast_url, params={\n",
    "        \"CMD\": \"Get\",\n",
    "        \"RID\": rid,\n",
    "        \"FORMAT_TYPE\": \"XML\"\n",
    "    })\n",
    "\n",
    "    print(\"BLAST result retrieved.\")\n",
    "    return result.text\n"
   ]
  },
  {
   "cell_type": "code",
   "execution_count": 9,
   "id": "2682508b",
   "metadata": {},
   "outputs": [],
   "source": [
    "def fetch_snp_info(rsid):\n",
    "    \"\"\"\n",
    "    Looks up SNP info via NCBI E-utilities esummary.fcgi.\n",
    "    \"\"\"\n",
    "    rsid_clean = rsid.lower().replace(\"rs\", \"\")\n",
    "    url = \"https://eutils.ncbi.nlm.nih.gov/entrez/eutils/esummary.fcgi\"\n",
    "    params = {\n",
    "        \"db\": \"snp\",\n",
    "        \"id\": rsid_clean,\n",
    "        \"retmode\": \"json\"\n",
    "    }\n",
    "    res = requests.get(url, params=params)\n",
    "    res.raise_for_status()\n",
    "    data = res.json()\n",
    "\n",
    "    docsum = data[\"result\"].get(rsid_clean)\n",
    "    if not docsum:\n",
    "        raise Exception(f\"No info found for SNP {rsid}\")\n",
    "    \n",
    "    genes = docsum.get(\"genes\", [])\n",
    "    if genes:\n",
    "        gene_name = genes[0].get(\"name\", \"Unknown\")\n",
    "        gene_id = genes[0].get(\"gene_id\", \"Unknown\")\n",
    "    else:\n",
    "        gene_name = \"None listed\"\n",
    "        gene_id = \"N/A\"\n",
    "\n",
    "    return {\n",
    "        \"rsid\": rsid,\n",
    "        \"chr\": docsum.get(\"chr\"),\n",
    "        \"position\": docsum.get(\"chrpos\"),\n",
    "        \"alleles\": docsum.get(\"allele\"),\n",
    "        \"gene\": gene_name,\n",
    "        \"gene_id\": gene_id,\n",
    "        \"snp_class\": docsum.get(\"snp_class\")\n",
    "    }\n"
   ]
  },
  {
   "cell_type": "code",
   "execution_count": 10,
   "id": "c5e39ad8",
   "metadata": {},
   "outputs": [],
   "source": [
    "def fetch_genomic_sequence(region, strand=1):\n",
    "    \"\"\"\n",
    "    Fetch DNA sequence from a specified region using GRCh38 coordinates via NCBI E-utilities efetch.fcgi.\n",
    "    Region format: \"NC_000001.11:91950805-91950932\"\n",
    "    \"\"\"\n",
    "    refseq_id, coords = region.split(\":\")\n",
    "    start, end = map(int, coords.split(\"-\"))\n",
    "\n",
    "    fetch_url = \"https://eutils.ncbi.nlm.nih.gov/entrez/eutils/efetch.fcgi\"\n",
    "    fetch_params = {\n",
    "        \"db\": \"nuccore\",\n",
    "        \"id\": refseq_id,\n",
    "        \"rettype\": \"fasta\",\n",
    "        \"retmode\": \"text\",\n",
    "        \"seq_start\": start,\n",
    "        \"seq_stop\": end,\n",
    "        \"strand\": strand\n",
    "    }\n",
    "    response = requests.get(fetch_url, params=fetch_params)\n",
    "    response.raise_for_status()\n",
    "\n",
    "    return response.text\n"
   ]
  },
  {
   "cell_type": "code",
   "execution_count": 11,
   "id": "956af3db",
   "metadata": {},
   "outputs": [],
   "source": [
    "def process_question(question):\n",
    "    parsed = interpret_question(question)\n",
    "\n",
    "    if parsed.get(\"is_code_task\", False):\n",
    "        return f\"```python\\n{parsed['code']}\\n```\"\n",
    "\n",
    "    elif parsed.get(\"needs_alignment\", False):\n",
    "        sequence = parsed[\"sequence\"]\n",
    "        program = parsed[\"program\"]\n",
    "        result_xml = run_blast(sequence, program=program)\n",
    "        return summarize_blast_with_gpt(result_xml)\n",
    "    \n",
    "    elif parsed.get(\"needs_sequence_fetch\", False):\n",
    "        region = parsed[\"sequence\"]\n",
    "        try:\n",
    "            sequence = fetch_genomic_sequence(region)\n",
    "            return f\"**The DNA sequence is:**\\n\\n{sequence.strip()}\"\n",
    "        except Exception as e:\n",
    "            return f\"Failed to fetch sequence for `{region}`: {e}\"\n",
    "\n",
    "\n",
    "    elif parsed.get(\"needs_snp_lookup\", False):\n",
    "        rsid = parsed[\"sequence\"]\n",
    "        try:\n",
    "            snp_info = fetch_snp_info(rsid)\n",
    "            return summarize_snp_with_gpt(snp_info, rsid)\n",
    "        except Exception as e:\n",
    "            return f\"Failed to fetch SNP info for {rsid}: {str(e)}\"\n",
    "\n",
    "    else:\n",
    "        return parsed.get(\"answer\", \"No answer generated.\")\n"
   ]
  },
  {
   "cell_type": "markdown",
   "id": "28408ecc",
   "metadata": {},
   "source": [
    "### Example - CSV usage"
   ]
  },
  {
   "cell_type": "code",
   "execution_count": null,
   "id": "48bea8e0",
   "metadata": {},
   "outputs": [],
   "source": [
    "import pandas as pd\n",
    "from tqdm import tqdm\n",
    "import time\n",
    "\n",
    "df = pd.read_csv(\"GPTs(2)/snp_gene.csv\")  \n",
    "\n",
    "for col in [\"Answer1\", \"Answer2\", \"Answer3\"]:\n",
    "    if col not in df.columns:\n",
    "        df[col] = \"\"\n",
    "\n",
    "for i, row in tqdm(df.iterrows(), total=len(df)):\n",
    "    question = row[\"Question\"]\n",
    "\n",
    "    for j in range(1, 4):\n",
    "        try:\n",
    "            answer = process_question(question)\n",
    "            df.at[i, f\"answer{j}\"] = answer\n",
    "            time.sleep(1)  # slight delay for safety\n",
    "        except Exception as e:\n",
    "            df.at[i, f\"answer{j}\"] = f\"[Error]: {str(e)}\"\n",
    "            print(f\"Error on answer{j} for row {i}: {e}\")\n",
    "\n",
    "df.to_csv(\"GPTs(2)/snp_gene_FINISH.csv\", index=False)\n",
    "print(\"All done!!\")\n"
   ]
  },
  {
   "cell_type": "markdown",
   "id": "c5a22946",
   "metadata": {},
   "source": [
    "### Example - Single Usage"
   ]
  },
  {
   "cell_type": "code",
   "execution_count": 12,
   "id": "2a08f590",
   "metadata": {},
   "outputs": [
    {
     "data": {
      "text/plain": [
       "'**SNP Summary**\\n\\n- **dbSNP ID:** rs1217074595\\n- **Chromosome Location:** Chromosome 20\\n- **Genomic Position:** 20:50298395\\n- **Associated Gene:** LINC01270\\n- **Function:** Not Available\\n- **Clinical Significance:** Not Available\\n\\n**Brief Summary:**\\nThe SNP rs1217074595 is located on chromosome 20 at position 50298395 and is associated with the gene LINC01270. Currently, there is no available information regarding its specific function or clinical significance.'"
      ]
     },
     "execution_count": 12,
     "metadata": {},
     "output_type": "execute_result"
    }
   ],
   "source": [
    "question_snp = \"Which gene is SNP rs1217074595 associated with?\"\n",
    "\n",
    "process_question(question_snp)"
   ]
  },
  {
   "cell_type": "code",
   "execution_count": 13,
   "id": "2d95b60c",
   "metadata": {},
   "outputs": [
    {
     "data": {
      "text/plain": [
       "'```python\\n# Python code to identify organism from DNA sequence\\nfrom Bio import Entrez, SeqIO\\n\\n# Set email for Entrez\\nEntrez.email = \"your.email@example.com\"\\n\\n# Function to search for the organism\\n\\ndef search_organism(sequence):\\n    handle = Entrez.esearch(db=\"nucleotide\", term=sequence, retmax=1)\\n    record = Entrez.read(handle)\\n    handle.close()\\n    if record[\\'IdList\\']:\\n        seq_id = record[\\'IdList\\'][0]\\n        handle = Entrez.efetch(db=\"nucleotide\", id=seq_id, rettype=\"gb\", retmode=\"text\")\\n        seq_record = SeqIO.read(handle, \"genbank\")\\n        handle.close()\\n        return seq_record.annotations[\\'organism\\']\\n    else:\\n        return \"Organism not found\"\\n\\n# Example usage\\nsequence = \"AGGGGCAGCAAACACCGGGACACACCCATTCGTGCACTAATCAGAAACTTTTTTTTCTCAAATAATTCAAACAATCAAAATTGGTTTTTTCGAGCAAGGTGGGAAATTTTTCGAT\"\\norganism = search_organism(sequence)\\nprint(f\"The DNA sequence is from: {organism}\")\\n```'"
      ]
     },
     "execution_count": 13,
     "metadata": {},
     "output_type": "execute_result"
    }
   ],
   "source": [
    "question_programming = \"Only generate Python programming code, do not provide any explanation to answer which organism does the DNA sequence come from:AGGGGCAGCAAACACCGGGACACACCCATTCGTGCACTAATCAGAAACTTTTTTTTCTCAAATAATTCAAACAATCAAAATTGGTTTTTTCGAGCAAGGTGGGAAATTTTTCGAT\"\n",
    "process_question(question_programming)"
   ]
  },
  {
   "cell_type": "code",
   "execution_count": 14,
   "id": "686bdccc",
   "metadata": {},
   "outputs": [
    {
     "data": {
      "text/plain": [
       "'Gene Ontology (GO) terms are used to describe the functions, processes, and cellular components associated with genes. Each of the genes listed (SLC27A5, AKT1, AKT2, ACSL1, SLC27A1, ACSL5, SLC2A1, THBS1, IRS2, CD36) may be associated with multiple GO terms. To find the specific GO terms for each gene, you can use resources like the Gene Ontology Consortium website or databases such as UniProt or NCBI Gene. These resources provide detailed annotations for each gene, including their associated GO terms.'"
      ]
     },
     "execution_count": 14,
     "metadata": {},
     "output_type": "execute_result"
    }
   ],
   "source": [
    "question_ontology = \"What is the gene ontology term associated with SLC27A5, AKT1, AKT2, ACSL1, SLC27A1, ACSL5, SLC2A1, THBS1, IRS2, CD36?\"\n",
    "process_question(question_ontology)"
   ]
  },
  {
   "cell_type": "code",
   "execution_count": 16,
   "id": "0348423c",
   "metadata": {},
   "outputs": [
    {
     "data": {
      "text/plain": [
       "'The translation of the given nucleic acid sequence into an amino acid sequence can be done using a codon table. Each set of three nucleotides (codon) corresponds to a specific amino acid. Here is the translation of the provided sequence:\\n\\nMVSNKKIWELPLVSTWVFGLGVTMGVHVAGRISEPTCTQLYFANCAAGRVPGGVSGSYVLGQFLGSSWRAATISTLSTPPISTFSGWTADGDRSRRYSGIFATYLFITDTVAGAFLNEAVADRDAPAVSFAYTDQENNPALQETEGAGDRHPVVIIAGVPLAMNTGYAINTVPGTCPPASSTFIAWLGQTVFSGGIIYLVFIASTIPREPLKLEDFVAV'"
      ]
     },
     "execution_count": 16,
     "metadata": {},
     "output_type": "execute_result"
    }
   ],
   "source": [
    "question_amino = \"Nucleic acid sequence of a human gene: atggttctaaataaaaaatatgggagctaccttggtgtcaacttgggttttggcttcggagtcaccatgggagtgcacgtggcaggccgcatctctggagcccacatgaacgcagctgtgacctttgctaactgtgcgctgggccgcgtgccctggaggaagtttccggtctatgtgctggggcagttcctgggctccttcctggcggctgccaccatctacagtctcttctacacggccattctccacttttcgggtggacagctgatggtgaccggtcccgtcgctacagctggcatttttgccacctaccttcctgatcacatgacattgtggcggggcttcctgaatgaggcgtggctgaccgggatgctccagctgtgtctcttcgccatcacggaccaggagaacaacccagcactgccaggaacagaggcgctggtgataggcatcctcgtggtcatcatcggggtgtcccttggcatgaacacaggatatgccatcaacccgtcccgggacctgcccccccgcatcttcaccttcattgctggttggggcaaacaggtcttcaggtggcatcatctacctggtcttcattggctccaccatcccacgggagcccctgaaattggaggattctgtggcgta. Translate the above nucleic acid sequences to the corresponding amino acid sequences.\"\n",
    "\n",
    "process_question(question_amino)"
   ]
  },
  {
   "cell_type": "code",
   "execution_count": 15,
   "id": "67a2c4d7",
   "metadata": {},
   "outputs": [
    {
     "name": "stdout",
     "output_type": "stream",
     "text": [
      "RID: 7VEBSX7B015 | Waiting ~30 seconds...\n",
      "BLAST result retrieved.\n"
     ]
    },
    {
     "data": {
      "text/plain": [
       "'The BLAST alignment results reveal the following top hits:\\n\\n1. **Homo sapiens SLCO3A1 Gene**\\n   - **Species**: Homo sapiens\\n   - **Gene**: Solute carrier organic anion transporter family member 3A1 (SLCO3A1)\\n   - **Chromosome**: Not explicitly mentioned\\n   - **Gene Location**: Positions 100090 to 100217 on the sequence\\n   - **Identity Percentage**: 100%\\n   - **Alignment Length**: 128 base pairs\\n   - **E-value**: 1.07566e-56\\n\\n2. **Eukaryotic Synthetic Construct**\\n   - **Species**: Synthetic construct\\n   - **Chromosome**: Chromosome 15\\n   - **Gene Location**: Positions 72494035 to 72494162 on the sequence\\n   - **Identity Percentage**: 100%\\n   - **Alignment Length**: 128 base pairs\\n   - **E-value**: 1.07566e-56\\n\\n3. **Homo sapiens Chromosome 15 Clone RP11-24J19**\\n   - **Species**: Homo sapiens\\n   - **Chromosome**: Chromosome 15\\n   - **Gene Location**: Positions 94509 to 94636 on the sequence\\n   - **Identity Percentage**: 100%\\n   - **Alignment Length**: 128 base pairs\\n   - **E-value**: 1.07566e-56\\n\\nThese alignments indicate a perfect match of the query sequence with the respective sequences in the database, as evidenced by the 100% identity and extremely low E-values, suggesting a highly significant match.'"
      ]
     },
     "execution_count": 15,
     "metadata": {},
     "output_type": "execute_result"
    }
   ],
   "source": [
    "question = \"Align the DNA sequence to the human genome:ATTCTGCCTTTAGTAATTTGATGACAGAGACTTCTTGGGAACCACAGCCAGGGAGCCACCCTTTACTCCACCAACAGGTGGCTTATATCCAATCTGAGAAAGAAAGAAAAAAAAAAAAGTATTTCTCT\"\n",
    "process_question(question)"
   ]
  },
  {
   "cell_type": "code",
   "execution_count": 17,
   "id": "739b5f35",
   "metadata": {},
   "outputs": [
    {
     "name": "stdout",
     "output_type": "stream",
     "text": [
      "RID: 7VEEGWXE015 | Waiting ~30 seconds...\n",
      "BLAST result retrieved.\n"
     ]
    },
    {
     "data": {
      "text/plain": [
       "'Here is a summary of the top three alignments from the BLAST results:\\n\\n1. **Caenorhabditis elegans CGC1 DNA, chromosome IV**\\n   - **Species:** Caenorhabditis elegans\\n   - **Chromosome:** Chromosome IV\\n   - **Location on Chromosome:** Positions 13,137,915 to 13,138,029\\n   - **Identity Percentage:** 100%\\n   - **Alignment Length:** 115 base pairs\\n   - **E-value:** 1.052e-49\\n\\n2. **Caenorhabditis elegans Cosmid K09E10**\\n   - **Species:** Caenorhabditis elegans\\n   - **Chromosome:** Not specified\\n   - **Location on Chromosome:** Positions 10,623 to 10,737\\n   - **Identity Percentage:** 100%\\n   - **Alignment Length:** 115 base pairs\\n   - **E-value:** 1.052e-49\\n\\n3. **Calditerrivibrio nitroreducens DSM 19672, complete genome**\\n   - **Species:** Calditerrivibrio nitroreducens\\n   - **Chromosome:** Not specified\\n   - **Location on Chromosome:** Positions 842,858 to 842,896\\n   - **Identity Percentage:** 89.7%\\n   - **Alignment Length:** 39 base pairs\\n   - **E-value:** 0.0622886\\n\\nThese alignments indicate a high degree of sequence similarity between the query sequence and the genomic regions of Caenorhabditis elegans, as well as a moderate similarity with Calditerrivibrio nitroreducens.'"
      ]
     },
     "execution_count": 17,
     "metadata": {},
     "output_type": "execute_result"
    }
   ],
   "source": [
    "question_species = \"Which organism does the DNA sequence come from:AGGGGCAGCAAACACCGGGACACACCCATTCGTGCACTAATCAGAAACTTTTTTTTCTCAAATAATTCAAACAATCAAAATTGGTTTTTTCGAGCAAGGTGGGAAATTTTTCGAT\"\n",
    "\n",
    "\n",
    "process_question(question_species)"
   ]
  },
  {
   "cell_type": "code",
   "execution_count": 18,
   "id": "cafb515f",
   "metadata": {},
   "outputs": [
    {
     "data": {
      "text/plain": [
       "'**The DNA sequence is:**\\n\\n>NC_000015.10:91950805-91950932 Homo sapiens chromosome 15, GRCh38.p14 Primary Assembly\\nATTCTGCCTTTAGTAATTTGATGACAGAGACTTCTTGGGAACCACAGCCAGGGAGCCACCCTTTACTCCA\\nCCAACAGGTGGCTTATATCCAATCTGAGAAAGAAAGAAAAAAAAAAAAGTATTTCTCT'"
      ]
     },
     "execution_count": 18,
     "metadata": {},
     "output_type": "execute_result"
    }
   ],
   "source": [
    "question_reverse = \"Use ncbi database to answer the following question: What is the DNA sequence located at chr15:91950805-91950932\"\n",
    "\n",
    "process_question(question_reverse)"
   ]
  }
 ],
 "metadata": {
  "kernelspec": {
   "display_name": "Python 3",
   "language": "python",
   "name": "python3"
  },
  "language_info": {
   "codemirror_mode": {
    "name": "ipython",
    "version": 3
   },
   "file_extension": ".py",
   "mimetype": "text/x-python",
   "name": "python",
   "nbconvert_exporter": "python",
   "pygments_lexer": "ipython3",
   "version": "3.12.2"
  }
 },
 "nbformat": 4,
 "nbformat_minor": 5
}
